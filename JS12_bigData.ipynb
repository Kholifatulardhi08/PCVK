{
  "nbformat": 4,
  "nbformat_minor": 0,
  "metadata": {
    "colab": {
      "name": "JS12-bigData.ipynb",
      "provenance": [],
      "collapsed_sections": [],
      "authorship_tag": "ABX9TyNIE5BwlOMK8wycwQp87eQR",
      "include_colab_link": true
    },
    "kernelspec": {
      "name": "python3",
      "display_name": "Python 3"
    },
    "language_info": {
      "name": "python"
    }
  },
  "cells": [
    {
      "cell_type": "markdown",
      "metadata": {
        "id": "view-in-github",
        "colab_type": "text"
      },
      "source": [
        "<a href=\"https://colab.research.google.com/github/Kholifatulardhi08/PCVK/blob/main/JS12_bigData.ipynb\" target=\"_parent\"><img src=\"https://colab.research.google.com/assets/colab-badge.svg\" alt=\"Open In Colab\"/></a>"
      ]
    },
    {
      "cell_type": "code",
      "execution_count": 3,
      "metadata": {
        "id": "sb8KnWnuEVqk"
      },
      "outputs": [],
      "source": [
        "!apt-get install openjdk-8-jdk-headless -qq > /dev/null"
      ]
    },
    {
      "cell_type": "code",
      "source": [
        "!wget -q https://dlcdn.apache.org/spark/spark-3.2.1/spark-3.2.1-bin-hadoop3.2.tgz"
      ],
      "metadata": {
        "id": "gPK_zxbsEhwt"
      },
      "execution_count": 4,
      "outputs": []
    },
    {
      "cell_type": "code",
      "source": [
        "!tar xf spark-3.2.1-bin-hadoop3.2.tgz"
      ],
      "metadata": {
        "id": "4puJJbYnE2rP"
      },
      "execution_count": 5,
      "outputs": []
    },
    {
      "cell_type": "code",
      "source": [
        "import os\n",
        "os.environ[\"JAVA_HOME\"] = \"/usr/lib/jvm/java-8-openjdk-amd64\"\n",
        "os.environ[\"SPARK_HOME\"] = \"/content/spark-3.2.1-bin-hadoop3.2\""
      ],
      "metadata": {
        "id": "KM0DVuGIFDNS"
      },
      "execution_count": 6,
      "outputs": []
    },
    {
      "cell_type": "code",
      "source": [
        "!pip install -q findspark"
      ],
      "metadata": {
        "id": "FUyHIIAnFJfQ"
      },
      "execution_count": 7,
      "outputs": []
    },
    {
      "cell_type": "code",
      "source": [
        "import findspark\n",
        "findspark.init()"
      ],
      "metadata": {
        "id": "PtWxeBXdFMLO"
      },
      "execution_count": 8,
      "outputs": []
    },
    {
      "cell_type": "code",
      "source": [
        "from pyspark.sql import SparkSession\n",
        "spark = SparkSession.builder\\\n",
        " .master(\"local\")\\\n",
        " .appName(\"Colab\")\\\n",
        " .config('spark.ui.port', '4050')\\\n",
        " .getOrCreate()"
      ],
      "metadata": {
        "id": "T7dRXpHKFQD-"
      },
      "execution_count": 9,
      "outputs": []
    },
    {
      "cell_type": "code",
      "source": [
        "!wget https://raw.githubusercontent.com/dhanifudin/pyspark-demo/main/sample_books.json"
      ],
      "metadata": {
        "colab": {
          "base_uri": "https://localhost:8080/"
        },
        "id": "hImV2dFsFVMs",
        "outputId": "b56b8bdc-fb6b-4a80-b596-3ba849d8a0aa"
      },
      "execution_count": 10,
      "outputs": [
        {
          "output_type": "stream",
          "name": "stdout",
          "text": [
            "--2022-05-31 16:22:12--  https://raw.githubusercontent.com/dhanifudin/pyspark-demo/main/sample_books.json\n",
            "Resolving raw.githubusercontent.com (raw.githubusercontent.com)... 185.199.108.133, 185.199.109.133, 185.199.110.133, ...\n",
            "Connecting to raw.githubusercontent.com (raw.githubusercontent.com)|185.199.108.133|:443... connected.\n",
            "HTTP request sent, awaiting response... 200 OK\n",
            "Length: 1565 (1.5K) [text/plain]\n",
            "Saving to: ‘sample_books.json’\n",
            "\n",
            "\rsample_books.json     0%[                    ]       0  --.-KB/s               \rsample_books.json   100%[===================>]   1.53K  --.-KB/s    in 0s      \n",
            "\n",
            "2022-05-31 16:22:12 (12.1 MB/s) - ‘sample_books.json’ saved [1565/1565]\n",
            "\n"
          ]
        }
      ]
    },
    {
      "cell_type": "code",
      "source": [
        "df = spark.read.json(\"sample_books.json\")"
      ],
      "metadata": {
        "id": "dJMbqG1hFdCw"
      },
      "execution_count": 11,
      "outputs": []
    },
    {
      "cell_type": "code",
      "source": [
        "df.printSchema()"
      ],
      "metadata": {
        "colab": {
          "base_uri": "https://localhost:8080/"
        },
        "id": "JikEVubiGICz",
        "outputId": "102e9c00-c03e-4a12-f040-4af5746e23e1"
      },
      "execution_count": 12,
      "outputs": [
        {
          "output_type": "stream",
          "name": "stdout",
          "text": [
            "root\n",
            " |-- author: string (nullable = true)\n",
            " |-- edition: string (nullable = true)\n",
            " |-- price: double (nullable = true)\n",
            " |-- title: string (nullable = true)\n",
            " |-- year_written: long (nullable = true)\n",
            "\n"
          ]
        }
      ]
    },
    {
      "cell_type": "code",
      "source": [
        "df.show(4,False)"
      ],
      "metadata": {
        "colab": {
          "base_uri": "https://localhost:8080/"
        },
        "id": "V_b69n7NHQd8",
        "outputId": "6a064049-d369-473e-abb5-58fedbb455e6"
      },
      "execution_count": 13,
      "outputs": [
        {
          "output_type": "stream",
          "name": "stdout",
          "text": [
            "+---------------+--------------+-----+----------------+------------+\n",
            "|author         |edition       |price|title           |year_written|\n",
            "+---------------+--------------+-----+----------------+------------+\n",
            "|Austen, Jane   |Penguin       |18.2 |Northanger Abbey|1814        |\n",
            "|Tolstoy, Leo   |Penguin       |12.7 |War and Peace   |1865        |\n",
            "|Tolstoy, Leo   |Penguin       |13.5 |Anna Karenina   |1875        |\n",
            "|Woolf, Virginia|Harcourt Brace|25.0 |Mrs. Dalloway   |1925        |\n",
            "+---------------+--------------+-----+----------------+------------+\n",
            "only showing top 4 rows\n",
            "\n"
          ]
        }
      ]
    },
    {
      "cell_type": "code",
      "source": [
        "df.select(\"title\", \"price\", \"year_written\").show(5)"
      ],
      "metadata": {
        "colab": {
          "base_uri": "https://localhost:8080/"
        },
        "id": "f_JX-nn2HfjR",
        "outputId": "9c06399b-2205-49fb-fcec-114855c057c8"
      },
      "execution_count": 14,
      "outputs": [
        {
          "output_type": "stream",
          "name": "stdout",
          "text": [
            "+----------------+-----+------------+\n",
            "|           title|price|year_written|\n",
            "+----------------+-----+------------+\n",
            "|Northanger Abbey| 18.2|        1814|\n",
            "|   War and Peace| 12.7|        1865|\n",
            "|   Anna Karenina| 13.5|        1875|\n",
            "|   Mrs. Dalloway| 25.0|        1925|\n",
            "|       The Hours|12.35|        1999|\n",
            "+----------------+-----+------------+\n",
            "only showing top 5 rows\n",
            "\n"
          ]
        }
      ]
    },
    {
      "cell_type": "code",
      "source": [
        "df_filtered = df.filter(\"year_written > 1950 AND price > 10 AND title IS NOT NULL\")\n",
        "df_filtered.select(\"title\", \"price\", \"year_written\").show(50,False)"
      ],
      "metadata": {
        "colab": {
          "base_uri": "https://localhost:8080/"
        },
        "id": "We0dsrpbHk68",
        "outputId": "cf62ec30-cdbf-41b9-a7d3-ecd97f80c5cd"
      },
      "execution_count": 15,
      "outputs": [
        {
          "output_type": "stream",
          "name": "stdout",
          "text": [
            "+-----------------------------+-----+------------+\n",
            "|title                        |price|year_written|\n",
            "+-----------------------------+-----+------------+\n",
            "|The Hours                    |12.35|1999        |\n",
            "|Harry Potter                 |19.95|2000        |\n",
            "|One Hundred Years of Solitude|14.0 |1967        |\n",
            "+-----------------------------+-----+------------+\n",
            "\n"
          ]
        }
      ]
    },
    {
      "cell_type": "code",
      "source": [
        "from pyspark.sql.functions import mean, min, max\n",
        "result = df.select([max(\"price\")])\n",
        "result.show()"
      ],
      "metadata": {
        "colab": {
          "base_uri": "https://localhost:8080/"
        },
        "id": "XmSTdTA4H6jG",
        "outputId": "2d5b532b-abfc-4e74-9bb1-fb12689c1aee"
      },
      "execution_count": 16,
      "outputs": [
        {
          "output_type": "stream",
          "name": "stdout",
          "text": [
            "+----------+\n",
            "|max(price)|\n",
            "+----------+\n",
            "|      29.0|\n",
            "+----------+\n",
            "\n"
          ]
        }
      ]
    },
    {
      "cell_type": "markdown",
      "source": [
        "Tampilkan data buku dengan harga paling murah!"
      ],
      "metadata": {
        "id": "PFHrz1VGMqZ_"
      }
    },
    {
      "cell_type": "code",
      "source": [
        "from pyspark.sql.functions import mean, min, max\n",
        "\n",
        "result = df.select([min(\"price\")])\n",
        "result.show()"
      ],
      "metadata": {
        "colab": {
          "base_uri": "https://localhost:8080/"
        },
        "id": "BQTgWiXNMu4G",
        "outputId": "2842142c-6092-47d6-9fe1-86b57ad1c35b"
      },
      "execution_count": 17,
      "outputs": [
        {
          "output_type": "stream",
          "name": "stdout",
          "text": [
            "+----------+\n",
            "|min(price)|\n",
            "+----------+\n",
            "|      5.75|\n",
            "+----------+\n",
            "\n"
          ]
        }
      ]
    },
    {
      "cell_type": "markdown",
      "source": [
        "Tampilkan jumlah terbit buku dikategorikan setiap tahun ditulis!"
      ],
      "metadata": {
        "id": "S4Fbm89uM_Vq"
      }
    },
    {
      "cell_type": "code",
      "source": [
        "from pyspark.sql.functions import mean, min, max, count\n",
        "df.groupBy(\"title\", \"year_written\").count().show()"
      ],
      "metadata": {
        "colab": {
          "base_uri": "https://localhost:8080/"
        },
        "id": "P_eTPs4Vpz_8",
        "outputId": "852fa1d4-30bb-419e-f8ba-0ff9427e2454"
      },
      "execution_count": 18,
      "outputs": [
        {
          "output_type": "stream",
          "name": "stdout",
          "text": [
            "+--------------------+------------+-----+\n",
            "|               title|year_written|count|\n",
            "+--------------------+------------+-----+\n",
            "|        Harry Potter|        2000|    1|\n",
            "|    Huckleberry Finn|        1865|    1|\n",
            "|Hamlet, Prince of...|        1603|    1|\n",
            "|         Bleak House|        1870|    1|\n",
            "|       War and Peace|        1865|    1|\n",
            "| A Room of One's Own|        1922|    1|\n",
            "|   Lord of the Rings|        1937|    1|\n",
            "|       Anna Karenina|        1875|    1|\n",
            "|       Mrs. Dalloway|        1925|    1|\n",
            "|           The Hours|        1999|    1|\n",
            "|One Hundred Years...|        1967|    1|\n",
            "|          Tom Sawyer|        1862|    1|\n",
            "|    Northanger Abbey|        1814|    1|\n",
            "+--------------------+------------+-----+\n",
            "\n"
          ]
        }
      ]
    },
    {
      "cell_type": "markdown",
      "source": [
        "Tampilkan data buku termahal tiap tahun penulisannya!"
      ],
      "metadata": {
        "id": "N6D8gqyf6RrZ"
      }
    },
    {
      "cell_type": "code",
      "source": [
        "from pyspark.sql.functions import mean, min, max, count\n",
        "df.groupBy(\"title\", \"price\").max().show()"
      ],
      "metadata": {
        "colab": {
          "base_uri": "https://localhost:8080/"
        },
        "id": "gHabXLfktFdr",
        "outputId": "6af6eb02-130b-45d8-975b-e9b8fd4e8e8d"
      },
      "execution_count": 19,
      "outputs": [
        {
          "output_type": "stream",
          "name": "stdout",
          "text": [
            "+--------------------+-----+----------+-----------------+\n",
            "|               title|price|max(price)|max(year_written)|\n",
            "+--------------------+-----+----------+-----------------+\n",
            "|       Anna Karenina| 13.5|      13.5|             1875|\n",
            "|   Lord of the Rings|27.45|     27.45|             1937|\n",
            "|       Mrs. Dalloway| 25.0|      25.0|             1925|\n",
            "|    Northanger Abbey| 18.2|      18.2|             1814|\n",
            "|    Huckleberry Finn| 5.76|      5.76|             1865|\n",
            "|         Bleak House| 5.75|      5.75|             1870|\n",
            "|          Tom Sawyer| 7.75|      7.75|             1862|\n",
            "|           The Hours|12.35|     12.35|             1999|\n",
            "|One Hundred Years...| 14.0|      14.0|             1967|\n",
            "|       War and Peace| 12.7|      12.7|             1865|\n",
            "|Hamlet, Prince of...| 7.95|      7.95|             1603|\n",
            "| A Room of One's Own| 29.0|      29.0|             1922|\n",
            "|        Harry Potter|19.95|     19.95|             2000|\n",
            "+--------------------+-----+----------+-----------------+\n",
            "\n"
          ]
        }
      ]
    },
    {
      "cell_type": "markdown",
      "source": [
        "Tampilkan data buku termurah tiap tahun penulisannya!"
      ],
      "metadata": {
        "id": "Mq-2AVvZ7qVo"
      }
    },
    {
      "cell_type": "code",
      "source": [
        "from pyspark.sql.functions import mean, min, max, count\n",
        "df.groupBy(\"title\", \"price\").min().show()"
      ],
      "metadata": {
        "colab": {
          "base_uri": "https://localhost:8080/"
        },
        "id": "_jWdlRgst2yT",
        "outputId": "823803d6-e9d0-4963-daa7-52684291fcb4"
      },
      "execution_count": 21,
      "outputs": [
        {
          "output_type": "stream",
          "name": "stdout",
          "text": [
            "+--------------------+-----+----------+-----------------+\n",
            "|               title|price|min(price)|min(year_written)|\n",
            "+--------------------+-----+----------+-----------------+\n",
            "|       Anna Karenina| 13.5|      13.5|             1875|\n",
            "|   Lord of the Rings|27.45|     27.45|             1937|\n",
            "|       Mrs. Dalloway| 25.0|      25.0|             1925|\n",
            "|    Northanger Abbey| 18.2|      18.2|             1814|\n",
            "|    Huckleberry Finn| 5.76|      5.76|             1865|\n",
            "|         Bleak House| 5.75|      5.75|             1870|\n",
            "|          Tom Sawyer| 7.75|      7.75|             1862|\n",
            "|           The Hours|12.35|     12.35|             1999|\n",
            "|One Hundred Years...| 14.0|      14.0|             1967|\n",
            "|       War and Peace| 12.7|      12.7|             1865|\n",
            "|Hamlet, Prince of...| 7.95|      7.95|             1603|\n",
            "| A Room of One's Own| 29.0|      29.0|             1922|\n",
            "|        Harry Potter|19.95|     19.95|             2000|\n",
            "+--------------------+-----+----------+-----------------+\n",
            "\n"
          ]
        }
      ]
    }
  ]
}